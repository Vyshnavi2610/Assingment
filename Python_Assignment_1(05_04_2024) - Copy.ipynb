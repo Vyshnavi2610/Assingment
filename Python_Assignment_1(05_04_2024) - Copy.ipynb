{
  "cells": [
    {
      "cell_type": "code",
      "execution_count": 10,
      "metadata": {},
      "outputs": [
        {
          "name": "stdout",
          "output_type": "stream",
          "text": [
            "Integer value:- 453\n",
            "<class 'int'>\n",
            "Float value:- 21.45\n",
            "<class 'float'>\n",
            "Boolean value:- True\n",
            "Complex values:- 5674j\n",
            "<class 'complex'>\n",
            "name:- Vyshhh\n",
            "<class 'str'>\n"
          ]
        }
      ],
      "source": [
        "#integer\n",
        "a=453\n",
        "print('Integer value:-',a)\n",
        "print(type(a))\n",
        "\n",
        "#float\n",
        "\n",
        "b=21.45\n",
        "print('Float value:-',b)\n",
        "print(type(b))\n",
        "\n",
        "#boolean\n",
        "\n",
        "c=109\n",
        "print('Boolean value:-',a>c)\n",
        "\n",
        "#complex\n",
        "\n",
        "d=5674j\n",
        "print('Complex values:-',d)\n",
        "print(type(d))\n",
        "\n",
        "#String\n",
        "e='Vyshhh'\n",
        "print('name:-',e)\n",
        "print(type(e))\n"
      ]
    },
    {
      "cell_type": "markdown",
      "metadata": {
        "id": "9_siXIRQje9m"
      },
      "source": [
        "1.Data Types: Name five different data types in Python and provide an example of each."
      ]
    },
    {
      "cell_type": "markdown",
      "metadata": {},
      "source": [
        "Data Types:- Data types is defined as a data element and defines the type by the value that holds.\n",
        "->Python supports various built-in data types.\n",
        "->Numeric:-In numeric we store the numberical values\n",
        "->we have four numerical data types\n",
        "->They are:-\n",
        "1)integer:-It stores whole number values without decimal points.\n",
        "2)float:-It stores decimal values.\n",
        "3)boolean:-It only returns true or false\n",
        "4)complex:-We just use j as an imaginery part and add it to the number.\n",
        "->(5)Strings:-A string is an immutable data type which means we can't the value once we declare.\n",
        "->A string is defined by ' ' or \" \" qoutes.\n",
        "->In String we don't have character data type, a single character also stores as string data type with the lenght of 1.\n",
        "->In strings we acces values by the indexes.\n",
        "->Indexing starts with 0.\n"
      ]
    },
    {
      "cell_type": "markdown",
      "metadata": {
        "id": "nQOdJHwHjkSP"
      },
      "source": [
        "2.Control Flow - Nested if: What is a nested if statement? Provide an example demonstrating nested if-else blocks."
      ]
    },
    {
      "cell_type": "code",
      "execution_count": 20,
      "metadata": {},
      "outputs": [
        {
          "name": "stdout",
          "output_type": "stream",
          "text": [
            "You are eligible for loan.\n"
          ]
        }
      ],
      "source": [
        "eligible_age=int(input(\"Enter age:-\"))\n",
        "income=int(input(\"Enter income:-\"))\n",
        "if eligible_age >=18:\n",
        "    if income >=25000:\n",
        "        print(\"You are eligible for loan.\")\n",
        "    else:\n",
        "        print(\"You are not eligible for loan.\")\n",
        "else:\n",
        "    print(\"You age must be atleast 18 years old.\")"
      ]
    },
    {
      "cell_type": "markdown",
      "metadata": {},
      "source": [
        "Nested if:-If inside another if statement  is known as nested if"
      ]
    },
    {
      "cell_type": "markdown",
      "metadata": {
        "id": "LohFxFacjrgX"
      },
      "source": [
        "3.Membership Operators: What are membership operators in Python? Provide an example demonstrating their use"
      ]
    },
    {
      "cell_type": "code",
      "execution_count": 13,
      "metadata": {},
      "outputs": [
        {
          "name": "stdout",
          "output_type": "stream",
          "text": [
            "False\n",
            "True\n"
          ]
        }
      ],
      "source": [
        "f=[24,457,897]\n",
        "k=[123,546,645]\n",
        "list=k\n",
        "print(list in f)\n",
        "print(list not in f)"
      ]
    },
    {
      "cell_type": "markdown",
      "metadata": {},
      "source": [
        "Membership Operators:-Memebership operators is used to check the if the sequence of the value is present or not.\n",
        "->We are having 2 types of membership operators\n",
        "1)in\n",
        "2)not in"
      ]
    },
    {
      "cell_type": "markdown",
      "metadata": {
        "id": "ugQUjDCdjwwC"
      },
      "source": [
        "4.Loops - for loop: How does a for loop work in Python? Provide an example of iterating through a list using a for loop."
      ]
    },
    {
      "cell_type": "code",
      "execution_count": 14,
      "metadata": {},
      "outputs": [
        {
          "name": "stdout",
          "output_type": "stream",
          "text": [
            "234\n",
            "5675\n",
            "7896\n",
            "2423\n",
            "789\n",
            "3453\n"
          ]
        }
      ],
      "source": [
        "list1=[234,5675,7896,2423,789,3453]\n",
        "for i in list1:\n",
        "    print(i)"
      ]
    },
    {
      "cell_type": "markdown",
      "metadata": {},
      "source": [
        "for:-for loop is used when we know how many iterations are neeeded."
      ]
    },
    {
      "cell_type": "markdown",
      "metadata": {
        "id": "6hh6ZV1mjyo_"
      },
      "source": [
        "5.Control Flow - match-case statement: What is the match-case statement introduced in Python 3.10, and how does it differ from traditional switch statements?"
      ]
    },
    {
      "cell_type": "code",
      "execution_count": 19,
      "metadata": {},
      "outputs": [
        {
          "name": "stdout",
          "output_type": "stream",
          "text": [
            "Apr\n"
          ]
        }
      ],
      "source": [
        "def months(m):\n",
        "    match m:\n",
        "        case 1: \n",
        "            return 'Jan'\n",
        "        case 2:\n",
        "            return 'Feb'\n",
        "        case 3:\n",
        "            return 'Mar'\n",
        "        case 4:\n",
        "            return \"Apr\"\n",
        "        case 5:\n",
        "            return \"May\"\n",
        "        case 6:\n",
        "            return \"jun\"\n",
        "        case 7:\n",
        "            return \"Jul\"\n",
        "        case 8:\n",
        "            return \"Agu\"\n",
        "        case 9:\n",
        "            return \"Sep\"\n",
        "        case 10:\n",
        "            return \"Oct\"\n",
        "        case 11:\n",
        "            return \"Nov\"\n",
        "        case 12:\n",
        "            return \"Dec\"\n",
        "print(months(4))\n",
        " "
      ]
    },
    {
      "cell_type": "markdown",
      "metadata": {},
      "source": [
        "match-case:-Match case statement is similar to switch case."
      ]
    },
    {
      "cell_type": "markdown",
      "metadata": {
        "id": "aS918q8Ij5JH"
      },
      "source": [
        "6.Arithmetic Operators: Explain the purpose of arithmetic operators in Python and give examples of their use."
      ]
    },
    {
      "cell_type": "code",
      "execution_count": null,
      "metadata": {},
      "outputs": [],
      "source": [
        "val1=2342\n",
        "val2=6754\n",
        "\n",
        "#Addition\n",
        "print('Addition:-',val1+val2)\n",
        "\n",
        "#Subtraction\n",
        "print('subtraction:-',val1-val2)\n",
        "\n",
        "#multiplication\n",
        "print('Multiplication:-',val1*val2)\n",
        "\n",
        "#Division\n",
        "print('Division:-',val1/val2)\n",
        "\n",
        "#modulous\n",
        "print('Modulous:-',val1%val2)\n",
        "\n",
        "#Exponentiation\n",
        "print('Exponentiation:-',val1**val2)\n",
        "\n",
        "#Flow Division\n",
        "print('Flow Division:-',val1//val2)\n",
        "\n",
        "\n"
      ]
    },
    {
      "cell_type": "markdown",
      "metadata": {},
      "source": [
        "Arithmetic Operators:-Arithmetic operators are used to perform mathematical operations like:-\n",
        "1)Addition\n",
        "2)Subtraction\n",
        "3)Multiplication\n",
        "4)Division\n",
        "5)Exponentiation\n",
        "6)flow division\n",
        "7)Modulous"
      ]
    },
    {
      "cell_type": "markdown",
      "metadata": {
        "id": "zPx-7matkfeR"
      },
      "source": [
        "7.Control Flow - Describe the use of if, elif, and else in Python's control flow and provide an example."
      ]
    },
    {
      "cell_type": "code",
      "execution_count": 25,
      "metadata": {},
      "outputs": [
        {
          "name": "stdout",
          "output_type": "stream",
          "text": [
            "Older\n"
          ]
        }
      ],
      "source": [
        "age=int(input(\"Enter Age:-\"))\n",
        "if age >= 0 and age <=3:\n",
        "    print(\"Baby\")\n",
        "elif age >3 and age <=6:\n",
        "    print(\"Kid\")\n",
        "elif age >6 and age <=12:\n",
        "    print(\"Child\")\n",
        "elif age >12 and age <=19:\n",
        "    print(\"Teenager\")\n",
        "elif age >19 and age <=30:\n",
        "    print(\"Adult\")\n",
        "elif age >30 and age <=50:\n",
        "    print(\"Mid-Age\")\n",
        "elif age >50 and age <60:\n",
        "    print(\"Getting old\")\n",
        "elif age >60 and age <=70:\n",
        "    print(\"Older\")\n",
        "elif age >70 and age <=99:\n",
        "    print(\"Granny's\")\n",
        "else:\n",
        "    print(\"Century\")\n",
        "    "
      ]
    },
    {
      "cell_type": "markdown",
      "metadata": {},
      "source": [
        "if: It is used to execute a block of code if a certain condition is true.\n",
        "\n",
        "elif: It stands for \"else if\". It is used to check additional conditions if the preceding if statement(s) are false. You can have multiple elif statements.\n",
        "\n",
        "else: It is used to execute a block of code if none of the preceding if or elif conditions are true. It's optional and can only appear once at the end of the if-elif-else block."
      ]
    },
    {
      "cell_type": "markdown",
      "metadata": {
        "id": "2yHXziD8q5qO"
      },
      "source": [
        "9.Variables: Describe the concept of variables in Python, including variable naming rules.Give Examples."
      ]
    },
    {
      "cell_type": "code",
      "execution_count": 26,
      "metadata": {},
      "outputs": [
        {
          "name": "stdout",
          "output_type": "stream",
          "text": [
            "4543\n"
          ]
        }
      ],
      "source": [
        "z=4543\n",
        "print(z)"
      ]
    },
    {
      "cell_type": "markdown",
      "metadata": {},
      "source": [
        "Variables:-Variable is like a memory location where the values is stored.\n",
        "->If we want we can change the values.\n",
        "->Variable declaration:-We no need any commands unlike the other progrmming language just assign the value to the variable.\n"
      ]
    },
    {
      "cell_type": "markdown",
      "metadata": {
        "id": "022e4cZPrBJ3"
      },
      "source": [
        "10.Bitwise Operators: Explain bitwise operators (AND, XOR) in Python with examples."
      ]
    },
    {
      "cell_type": "code",
      "execution_count": 28,
      "metadata": {},
      "outputs": [
        {
          "name": "stdout",
          "output_type": "stream",
          "text": [
            "2\n",
            "8\n"
          ]
        }
      ],
      "source": [
        "#Bitiwise And\n",
        "print(10 & 2)\n",
        "\n",
        "#Bitiwise Or\n",
        "print(10 ^ 2)\n"
      ]
    },
    {
      "cell_type": "markdown",
      "metadata": {
        "id": "ZhG7bZHfrGV-"
      },
      "source": [
        "11.Loop Control - What does the break statement do in Python loops? Give an example."
      ]
    },
    {
      "cell_type": "code",
      "execution_count": 31,
      "metadata": {},
      "outputs": [
        {
          "name": "stdout",
          "output_type": "stream",
          "text": [
            "1\n",
            "2\n",
            "3\n",
            "Number 4 found. Exiting loop.\n"
          ]
        }
      ],
      "source": [
        "numbers = [1, 2, 3, 4, 5]\n",
        "\n",
        "for num in numbers:\n",
        "    if num == 4:\n",
        "        print(\"Number 4 found. Exiting loop.\")\n",
        "        break\n",
        "    print(num)"
      ]
    },
    {
      "cell_type": "markdown",
      "metadata": {},
      "source": [
        "break:-It terminates the loop accroding to the condition "
      ]
    },
    {
      "cell_type": "markdown",
      "metadata": {
        "id": "HOSAHxf0rKsk"
      },
      "source": [
        "12.Assignment Operators: Describe the different types of assignment operators in Python and provide examples of their usage."
      ]
    },
    {
      "cell_type": "markdown",
      "metadata": {},
      "source": [
        "Assignment operators are used to assign values.\n",
        "->The assignment operator = assigns the value of its right-hand operand to a variable given by its left-hand operand. "
      ]
    },
    {
      "cell_type": "code",
      "execution_count": null,
      "metadata": {},
      "outputs": [],
      "source": [
        "#Assignment Operators\n",
        "\n",
        "a=20 \n",
        "a+=10\n",
        "print(a)\n",
        "\n",
        "b=15 \n",
        "b+=10\n",
        "print(b)\n",
        "\n",
        "c=30\n",
        "c*=10\n",
        "print(c)\n",
        "\n",
        "d=2267\n",
        "d%=9\n",
        "print(d)\n",
        "\n",
        "e=98\n",
        "e**=10\n",
        "print(e)\n",
        "\n",
        "f=68 \n",
        "f//=4\n",
        "print(f)\n",
        "\n",
        "g=56 \n",
        "g/=5\n",
        "print(g)\n",
        "\n",
        "h=87 \n",
        "h^=15\n",
        "print(h)\n",
        "\n",
        "i=650\n",
        "i&=12\n",
        "print(i)"
      ]
    },
    {
      "cell_type": "markdown",
      "metadata": {
        "id": "5orrJ6VFrMZZ"
      },
      "source": [
        "13.String Methods: Name three string methods in Python and describe their uses."
      ]
    },
    {
      "cell_type": "code",
      "execution_count": 41,
      "metadata": {},
      "outputs": [
        {
          "name": "stdout",
          "output_type": "stream",
          "text": [
            "7\n",
            "vyshuuu\n",
            "VYSHUUU\n",
            "Vyshhhh\n"
          ]
        }
      ],
      "source": [
        "str='Vyshuuu'\n",
        "print(len(str))\n",
        "print(str.lower())\n",
        "print(str.upper())\n",
        "print(str.replace('u', 'h'))"
      ]
    },
    {
      "cell_type": "markdown",
      "metadata": {},
      "source": [
        "len():-It returns the length of the string.\n",
        "lower():-It returns the string in lower case.\n",
        "upper():-It returns the string in upper case.\n",
        "replace():-It returns the string by replacing the specified value."
      ]
    },
    {
      "cell_type": "markdown",
      "metadata": {
        "id": "rcqvsYa_rWQ1"
      },
      "source": [
        "14.Loop Control - Describe the purpose of the continue statement in Python loops and provide an example of its use."
      ]
    },
    {
      "cell_type": "markdown",
      "metadata": {},
      "source": [
        "In Python, the continue statement is used within loops to skip the rest of the code inside the loop for the current iteration and proceed to the next iteration. It effectively tells Python to ignore the remaining statements in the loop's body and start the next iteration immediately."
      ]
    },
    {
      "cell_type": "code",
      "execution_count": 37,
      "metadata": {},
      "outputs": [
        {
          "name": "stdout",
          "output_type": "stream",
          "text": [
            "1\n",
            "2\n",
            "4\n",
            "5\n",
            "6\n",
            "7\n",
            "8\n",
            "9\n"
          ]
        }
      ],
      "source": [
        "nested_list = [[1, 2, 3], [4, 5, 6], [7, 8, 9]]\n",
        " \n",
        "for i in nested_list:\n",
        "    for j in i:\n",
        "        if j == 3:\n",
        "            continue\n",
        "        print(j)"
      ]
    },
    {
      "cell_type": "markdown",
      "metadata": {
        "id": "zzO_aJFZrb-p"
      },
      "source": [
        "15.Identity Operators: Describe identity operators in Python and explain when they are used."
      ]
    },
    {
      "cell_type": "code",
      "execution_count": 36,
      "metadata": {},
      "outputs": [
        {
          "name": "stdout",
          "output_type": "stream",
          "text": [
            "False\n",
            "True\n",
            "True\n",
            "True\n",
            "False\n",
            "False\n"
          ]
        }
      ],
      "source": [
        "x = [34,67,23]\n",
        "y = [88,54,43]\n",
        "z = x\n",
        "\n",
        "# Using is\n",
        "print(x is y)    \n",
        "print(x is z)    \n",
        "print(y is not z) \n",
        "\n",
        "# Using is not\n",
        "print(x is not y)   \n",
        "print(x is not z)   \n",
        "print(y is z)       "
      ]
    },
    {
      "cell_type": "markdown",
      "metadata": {},
      "source": [
        "Identity operators in Python are used to compare the memory locations of two objects rather than their values. They are used to determine whether two variables reference the same object in memory. Python provides two identity operators:\n",
        "\n",
        "~is: Returns True if both variables refer to the same object, otherwise False.\n",
        "~\n",
        "is not: Returns True if both variables refer to different objects, otherwise False."
      ]
    }
  ],
  "metadata": {
    "colab": {
      "provenance": []
    },
    "kernelspec": {
      "display_name": "Python 3",
      "name": "python3"
    },
    "language_info": {
      "codemirror_mode": {
        "name": "ipython",
        "version": 3
      },
      "file_extension": ".py",
      "mimetype": "text/x-python",
      "name": "python",
      "nbconvert_exporter": "python",
      "pygments_lexer": "ipython3",
      "version": "3.12.0"
    }
  },
  "nbformat": 4,
  "nbformat_minor": 0
}
